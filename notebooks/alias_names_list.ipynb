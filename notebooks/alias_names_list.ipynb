{
 "cells": [
  {
   "cell_type": "code",
   "execution_count": 1,
   "metadata": {},
   "outputs": [],
   "source": [
    "import pandas as pd\n",
    "\n",
    "alias_types_df = pd.read_csv(\"../parsers/reference_value_sets/alias_type_values.csv\")"
   ]
  },
  {
   "cell_type": "code",
   "execution_count": 2,
   "metadata": {},
   "outputs": [],
   "source": [
    "\n",
    "original_data_df = pd.read_csv(\"../parsers/distinct_parties/dp_phase1.csv\")"
   ]
  },
  {
   "cell_type": "code",
   "execution_count": 3,
   "metadata": {},
   "outputs": [],
   "source": [
    "def transform_alias_details(row, alias_types_df):\n",
    "    alias_details = row['AliasDetails'].split('|')\n",
    "    exact_names = []\n",
    "    alternative_scripts = []\n",
    "    listed_aliases = []\n",
    "    \n",
    "    for detail in alias_details:\n",
    "        parts = detail.split(',')\n",
    "        alias_type_id = parts[0].split(': ')[1]\n",
    "        alias_description = ', '.join(parts[1:])\n",
    "        \n",
    "        # Check if the alias_type_id is in the alias_types_df and get the description\n",
    "        alias_type_desc = alias_types_df[alias_types_df['ID'] == int(alias_type_id)]['Description']\n",
    "        \n",
    "        # If the alias_type_id is found, use the description, otherwise set to an empty string\n",
    "        alias_type_desc = alias_type_desc.iloc[0] if not alias_type_desc.empty else ''\n",
    "        \n",
    "        if alias_type_desc == 'Name':\n",
    "            exact_names.append(alias_description)\n",
    "        elif alias_type_desc in ['A.K.A.', 'F.K.A.', 'N.K.A.']:\n",
    "            alternative_scripts.append(alias_description)\n",
    "            listed_aliases.append(alias_description)\n",
    "    \n",
    "    return ', '.join(exact_names), ', '.join(alternative_scripts), ', '.join(listed_aliases)"
   ]
  },
  {
   "cell_type": "code",
   "execution_count": 4,
   "metadata": {},
   "outputs": [
    {
     "name": "stdout",
     "output_type": "stream",
     "text": [
      "       DistinctPartyID  ProfileID  PartySubTypeID  IdentityID  \\\n",
      "0                   36         36               3        4375   \n",
      "1                  173        173               3        4310   \n",
      "2                  306        306               3        4314   \n",
      "3                  424        424               3        4322   \n",
      "4                  475        475               3        4330   \n",
      "...                ...        ...             ...         ...   \n",
      "14431            48161      48161               4       39785   \n",
      "14432            48182      48182               3       39806   \n",
      "14433            48183      48183               1       39807   \n",
      "14434            48199      48199               3       39823   \n",
      "14435            48200      48200               1       39824   \n",
      "\n",
      "                                            AliasDetails  \\\n",
      "0      TypeID: 1403, Primary: true, LowQuality: false...   \n",
      "1      TypeID: 1403, Primary: true, LowQuality: false...   \n",
      "2      TypeID: 1403, Primary: true, LowQuality: false...   \n",
      "3      TypeID: 1403, Primary: true, LowQuality: false...   \n",
      "4      TypeID: 1403, Primary: true, LowQuality: false...   \n",
      "...                                                  ...   \n",
      "14431  TypeID: 1403, Primary: true, LowQuality: false...   \n",
      "14432  TypeID: 1403, Primary: true, LowQuality: false...   \n",
      "14433  TypeID: 1403, Primary: true, LowQuality: false...   \n",
      "14434  TypeID: 1403, Primary: true, LowQuality: false...   \n",
      "14435  TypeID: 1403, Primary: true, LowQuality: false...   \n",
      "\n",
      "                                          FeatureDetails  \n",
      "0           TypeID: 25, ReliabilityID: 1, LocationID: 25  \n",
      "1          TypeID: 25, ReliabilityID: 1, LocationID: 129  \n",
      "2      TypeID: 25, ReliabilityID: 1, LocationID: 199 ...  \n",
      "3          TypeID: 25, ReliabilityID: 1, LocationID: 247  \n",
      "4      TypeID: 25, ReliabilityID: 1, LocationID: 271 ...  \n",
      "...                                                  ...  \n",
      "14431  TypeID: 8, ReliabilityID: 1, LocationID: N/A |...  \n",
      "14432  TypeID: 646, ReliabilityID: 1, LocationID: N/A...  \n",
      "14433  TypeID: 3, ReliabilityID: 1, LocationID: N/A |...  \n",
      "14434  TypeID: 504, ReliabilityID: 1, LocationID: N/A...  \n",
      "14435  TypeID: 3, ReliabilityID: 1, LocationID: N/A |...  \n",
      "\n",
      "[14436 rows x 6 columns]\n"
     ]
    }
   ],
   "source": [
    "print(original_data_df)\n",
    "original_data_df.to_csv(\"transformed_distinct_parties_with_alias_types.csv\", index=False)"
   ]
  },
  {
   "cell_type": "code",
   "execution_count": null,
   "metadata": {},
   "outputs": [],
   "source": []
  }
 ],
 "metadata": {
  "kernelspec": {
   "display_name": "Python 3",
   "language": "python",
   "name": "python3"
  },
  "language_info": {
   "codemirror_mode": {
    "name": "ipython",
    "version": 3
   },
   "file_extension": ".py",
   "mimetype": "text/x-python",
   "name": "python",
   "nbconvert_exporter": "python",
   "pygments_lexer": "ipython3",
   "version": "3.12.2"
  }
 },
 "nbformat": 4,
 "nbformat_minor": 2
}
