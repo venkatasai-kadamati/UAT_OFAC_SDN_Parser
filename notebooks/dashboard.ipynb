{
 "cells": [
  {
   "cell_type": "markdown",
   "metadata": {},
   "source": [
    "### Sanctions Entries + Legal basic values ===> insights  "
   ]
  },
  {
   "cell_type": "code",
   "execution_count": 1,
   "metadata": {},
   "outputs": [],
   "source": [
    "import pandas as pd"
   ]
  },
  {
   "cell_type": "code",
   "execution_count": 2,
   "metadata": {},
   "outputs": [],
   "source": [
    "# Load the CSV files into pandas DataFrames\n",
    "sanctions_entries_df = pd.read_csv(\"../parsers/sanction_entries/sanctions_entries.csv\")\n",
    "legal_basis_values_df = pd.read_csv(\"../parsers/reference_value_sets/legal_basis_values.csv\")\n",
    "\n",
    "# print(sanctions_entries_df)\n",
    "# print(legal_basis_values_df)"
   ]
  },
  {
   "cell_type": "code",
   "execution_count": 3,
   "metadata": {},
   "outputs": [],
   "source": [
    "# Replace 'Unknown' with an empty string\n",
    "sanctions_entries_df.replace(\"Unknown\", \"\", inplace=True)\n",
    "legal_basis_values_df.replace(\"Unknown\", \"\", inplace=True)"
   ]
  },
  {
   "cell_type": "code",
   "execution_count": 4,
   "metadata": {},
   "outputs": [],
   "source": [
    "# renaming for consistency\n",
    "legal_basis_values_df.rename(columns={'ID': 'LegalBasisID'}, inplace=True)\n",
    "\n",
    "# merge on col : \"legal_basic_id\"\n",
    "merged_df = pd.merge(sanctions_entries_df, legal_basis_values_df, on='LegalBasisID', how='left')"
   ]
  },
  {
   "cell_type": "code",
   "execution_count": 5,
   "metadata": {},
   "outputs": [],
   "source": [
    "# Selecting limited columns for the insightful dashboard\n",
    "dashboard_df = merged_df[['SanctionsEntryID', 'ProfileID', 'LegalBasisShortRef', 'Description', 'EntryEventDate', 'SanctionsMeasureComment']]"
   ]
  },
  {
   "cell_type": "code",
   "execution_count": 6,
   "metadata": {},
   "outputs": [
    {
     "name": "stdout",
     "output_type": "stream",
     "text": [
      "Dashboard CSV created successfully. \n",
      "\n",
      "       SanctionsEntryID  ProfileID                 LegalBasisShortRef  \\\n",
      "0                    36         36                                      \n",
      "1                    36         36                                      \n",
      "2                   173        173                                      \n",
      "3                   173        173                                      \n",
      "4                   306        306       Executive Order 12854 (Cuba)   \n",
      "...                 ...        ...                                ...   \n",
      "31793             48183      48183  Executive Order 13224 (Terrorism)   \n",
      "31794             48199      48199  Executive Order 13224 (Terrorism)   \n",
      "31795             48199      48199  Executive Order 13224 (Terrorism)   \n",
      "31796             48200      48200  Executive Order 13224 (Terrorism)   \n",
      "31797             48200      48200  Executive Order 13224 (Terrorism)   \n",
      "\n",
      "                             Description EntryEventDate  \\\n",
      "0                                            1986-12-10   \n",
      "1                                            1986-12-10   \n",
      "2                                             1984-7-12   \n",
      "3                                             1984-7-12   \n",
      "4           Executive Order 12854 (Cuba)      1989-3-30   \n",
      "...                                  ...            ...   \n",
      "31793  Executive Order 13224 (Terrorism)       2024-3-6   \n",
      "31794  Executive Order 13224 (Terrorism)       2024-3-6   \n",
      "31795  Executive Order 13224 (Terrorism)       2024-3-6   \n",
      "31796  Executive Order 13224 (Terrorism)       2024-3-6   \n",
      "31797  Executive Order 13224 (Terrorism)       2024-3-6   \n",
      "\n",
      "      SanctionsMeasureComment  \n",
      "0                         NaN  \n",
      "1                        CUBA  \n",
      "2                         NaN  \n",
      "3                        CUBA  \n",
      "4                         NaN  \n",
      "...                       ...  \n",
      "31793                    SDGT  \n",
      "31794                     NaN  \n",
      "31795                    SDGT  \n",
      "31796                     NaN  \n",
      "31797                    SDGT  \n",
      "\n",
      "[31798 rows x 6 columns]\n"
     ]
    }
   ],
   "source": [
    "# Save the merged DataFrame to a new CSV file\n",
    "dashboard_df.to_csv(\"dashboard_insights.csv\", index=False)\n",
    "\n",
    "print(\"Dashboard CSV created successfully. \\n\")\n",
    "print(dashboard_df)"
   ]
  },
  {
   "cell_type": "code",
   "execution_count": 7,
   "metadata": {},
   "outputs": [
    {
     "data": {
      "text/plain": [
       "' \\n[Original XML Data (sdn_advanced.xml)]\\n        |\\n        |---[Parse Distinct Parties]--->[DistinctParties.csv]\\n        |                                   |\\n[Original XSD Schema (sdn_advanced.xsd)]   |\\n        |                                   |\\n        |---[Parse Legal Basis]------------>[LegalBasis.csv]\\n        |                                   |\\n        |---[Merge CSVs using pandas]-------|\\n                                            |\\n                                    [Merged Data (dashboard_insights.csv)]\\n                                            |\\n                                    [Final Data Presentation]\\n'"
      ]
     },
     "execution_count": 7,
     "metadata": {},
     "output_type": "execute_result"
    }
   ],
   "source": [
    "\"\"\" \n",
    "[Original XML Data (sdn_advanced.xml)]\n",
    "        |\n",
    "        |---[Parse Distinct Parties]--->[DistinctParties.csv]\n",
    "        |                                   |\n",
    "[Original XSD Schema (sdn_advanced.xsd)]   |\n",
    "        |                                   |\n",
    "        |---[Parse Legal Basis]------------>[LegalBasis.csv]\n",
    "        |                                   |\n",
    "        |---[Merge CSVs using pandas]-------|\n",
    "                                            |\n",
    "                                    [Merged Data (dashboard_insights.csv)]\n",
    "                                            |\n",
    "                                    [Final Data Presentation]\n",
    "\"\"\""
   ]
  },
  {
   "cell_type": "code",
   "execution_count": null,
   "metadata": {},
   "outputs": [],
   "source": []
  },
  {
   "cell_type": "code",
   "execution_count": null,
   "metadata": {},
   "outputs": [],
   "source": []
  }
 ],
 "metadata": {
  "kernelspec": {
   "display_name": "Python 3",
   "language": "python",
   "name": "python3"
  },
  "language_info": {
   "codemirror_mode": {
    "name": "ipython",
    "version": 3
   },
   "file_extension": ".py",
   "mimetype": "text/x-python",
   "name": "python",
   "nbconvert_exporter": "python",
   "pygments_lexer": "ipython3",
   "version": "3.12.2"
  }
 },
 "nbformat": 4,
 "nbformat_minor": 2
}
